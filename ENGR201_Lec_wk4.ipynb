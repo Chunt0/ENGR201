{
 "cells": [
  {
   "cell_type": "markdown",
   "id": "ecd86b93",
   "metadata": {},
   "source": [
    "# Week 4\n",
    "\n",
    "## Lecture 1\n",
    "--------------------\n",
    "\n",
    "Linearity\n",
    "-----------\n",
    "Homogeneity/Proportionality: If the input is multiplied by a constant, the output is multiplied by the same constant.\n",
    "\n",
    "Additivity/Superposition: The response to the sum of inputs is the sum of the responses to each input applied separately.\n",
    "\n",
    "\n",
    "    "
   ]
  }
 ],
 "metadata": {
  "kernelspec": {
   "display_name": "Python 3 (ipykernel)",
   "language": "python",
   "name": "python3"
  },
  "language_info": {
   "codemirror_mode": {
    "name": "ipython",
    "version": 3
   },
   "file_extension": ".py",
   "mimetype": "text/x-python",
   "name": "python",
   "nbconvert_exporter": "python",
   "pygments_lexer": "ipython3",
   "version": "3.10.6"
  }
 },
 "nbformat": 4,
 "nbformat_minor": 5
}
