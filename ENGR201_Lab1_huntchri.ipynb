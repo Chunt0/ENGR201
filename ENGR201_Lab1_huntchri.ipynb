{
 "cells": [
  {
   "cell_type": "code",
   "execution_count": 37,
   "id": "27fe8101",
   "metadata": {},
   "outputs": [],
   "source": [
    "import pandas as pd\n",
    "import matplotlib.pyplot as plt\n",
    "import math"
   ]
  },
  {
   "cell_type": "markdown",
   "id": "d8c6133e",
   "metadata": {},
   "source": [
    "# ENGR 201 Lab 1: Ohm's Law\n",
    "\n"
   ]
  },
  {
   "cell_type": "markdown",
   "id": "6316dedc",
   "metadata": {},
   "source": [
    "## Abstract\n",
    "-----------------------\n",
    "In this lab we investigate two problems. First we utilize a DC power supply and a multimeter to find the actual resistance of two resistors, and measure the relationship between voltage and current when a power source is applied to them. Second we build two circuits, one in series and another in parallel, using a 1 kΩ and a 3.3 kΩ resistors. We then measure the effective resistance and apply a power current and calculate the effective resistance from the measured voltage and current."
   ]
  },
  {
   "cell_type": "markdown",
   "id": "bfed9936",
   "metadata": {},
   "source": [
    "## Equipment\n",
    "------------------------\n",
    "\n",
    "* Extech EX330\n",
    "* GWINSTEK GPE-3323    Serial: GER901877\n",
    "* 1,000 Ω Resistor\n",
    "* 3,300 Ω Resistor"
   ]
  },
  {
   "cell_type": "markdown",
   "id": "a689a8d1",
   "metadata": {},
   "source": [
    "# Procedure\n",
    "-------------------\n",
    "\n",
    "### Part 1: Ohm's Law\n",
    "\n",
    "1. Construct the circuit as shown below using the 1kΩ resistor.\n",
    "\n",
    "\n",
    "2. Use the measured value of R for all calculations. Note that the voltmeter is placed in\n",
    "parallel with the resistor with the positive (red) lead connected to the point of higher potential as established by the indicated current direction and that the ammeter is connected in series with the resistor.\n",
    "\n",
    "\n",
    "3. Adjust the power supply until the source voltage is 1 volt as measured by the voltmeter.\n",
    "Measure and record the voltage across the resistor, VR, and the current, IR, through the\n",
    "resistor.\n",
    "\n",
    "\n",
    "4. Repeat step 3 for a range of values of the voltage across the resistor, VR, from 1 volts to 10 volts in 0.5-volt increments.\n",
    "\n",
    "\n",
    "5. Plot the data obtained on a graph with the y-axis, voltage, and the x-axis, current. Find the relationship between voltage and current in a purely resistive circuit using the equation of a straight line, y = m(x) + b. The slope of this line represents the resistance of the resistor.\n",
    "\n",
    "\n",
    "6. Repeat steps 3 through 5 substituting a 3300 Ω resistor. What changed and why? How\n",
    "does this relate to Ohm's Law?\n",
    "\n",
    "\n"
   ]
  },
  {
   "cell_type": "markdown",
   "id": "aac8e973",
   "metadata": {},
   "source": [
    "## Data\n",
    "-------------\n",
    "\n",
    "Measured Values of 1k Ω and 3.3k Ω resistors:\n",
    "\n",
    "$$ \\textbf{Nominal} \\qquad \\textbf{Precision} \\qquad \\textbf{Actual} $$\n",
    "\n",
    "\n",
    "$$\\textbf{1 kΩ} \\qquad \\textbf{0.985 kΩ} \\qquad \\textbf{0.985 kΩ}$$\n",
    "\n"
   ]
  },
  {
   "cell_type": "markdown",
   "id": "9857d5f3",
   "metadata": {},
   "source": [
    "### 1k Ω Resistor Data"
   ]
  },
  {
   "cell_type": "code",
   "execution_count": 40,
   "id": "d38e22b9",
   "metadata": {},
   "outputs": [
    {
     "name": "stdout",
     "output_type": "stream",
     "text": [
      "      Voltage (V) [v]  Current (mA) [i]\n",
      "1.0             0.990              1.00\n",
      "1.5             1.449              1.46\n",
      "2.0             1.977              1.99\n",
      "2.5             2.447              2.47\n",
      "3.0             3.003              3.03\n",
      "3.5             3.448              3.48\n",
      "4.0             3.960              4.00\n",
      "4.5             4.490              4.54\n",
      "5.0             4.920              4.98\n",
      "5.5             5.440              5.50\n",
      "6.0             5.930              6.00\n",
      "6.5             6.470              6.55\n",
      "7.0             6.880              6.97\n",
      "7.5             7.410              7.50\n",
      "8.0             7.940              8.04\n",
      "8.5             8.390              8.49\n",
      "9.0             8.940              9.06\n",
      "9.5             9.370              9.49\n",
      "10.0            9.920             10.06\n"
     ]
    },
    {
     "data": {
      "image/png": "[encoded data removed]",
      "text/plain": [
       "<Figure size 640x480 with 1 Axes>"
      ]
     },
     "metadata": {},
     "output_type": "display_data"
    }
   ],
   "source": [
    "volts_index = [1,1.5,2,2.5,3,3.5,4,4.5,5,5.5,6,6.5,7,7.5,8,8.5,9,9.5,10]\n",
    "\n",
    "volts_1000 = [.99,1.449,1.977,2.447,3.003,3.448,3.96,4.49,4.92,5.44,5.93,6.47,6.88,7.41,7.94,8.39,8.94,9.37,9.92]\n",
    "current_1000 = [1,1.46,1.99,2.47,3.03,3.48,4.00,4.54,4.98,5.50,6.00,6.55,6.97,7.50,8.04,8.49,9.06,9.49,10.06]\n",
    "\n",
    "test_data = {'Voltage (V) [v]' : volts_1000, 'Current (mA) [i]' : current_1000}\n",
    "\n",
    "test_data = pd.DataFrame(data = test_data, index = volts_index)\n",
    "\n",
    "print(test_data)\n",
    "\n",
    "\n",
    "plt.plot(current_1000, volts_1000, 'bo')\n",
    "plt.xlabel('Current (mA) [i]')\n",
    "plt.ylabel('Voltage (V) [v]')\n",
    "plt.title('V-I Graph of 1k Ohm Resistor')\n",
    "m = (volts_1000[len(volts_1000)-1]-volts_1000[0])/(current_1000[len(current_1000)-1]-current_1000[0])\n",
    "plt.text(4,2, f\"v = {m:.2f} * i\")\n",
    "plt.show()"
   ]
  },
  {
   "cell_type": "markdown",
   "id": "87a3f360",
   "metadata": {},
   "source": [
    "### 3.3 kΩ Resistor Data"
   ]
  },
  {
   "cell_type": "code",
   "execution_count": 38,
   "id": "e477f68e",
   "metadata": {},
   "outputs": [
    {
     "name": "stdout",
     "output_type": "stream",
     "text": [
      "      Voltage (V) [v]  Current (mA) [i]\n",
      "1.0             0.966              0.29\n",
      "1.5             1.457              0.44\n",
      "2.0             2.017              0.61\n",
      "2.5             2.494              0.76\n",
      "3.0             3.030              0.92\n",
      "3.5             3.475              1.06\n",
      "4.0             3.950              1.21\n",
      "4.5             4.500              1.37\n",
      "5.0             4.960              1.51\n",
      "5.5             5.500              1.68\n",
      "6.0             6.020              1.84\n",
      "6.5             6.480              1.98\n",
      "7.0             7.020              2.15\n",
      "7.5             7.480              2.29\n",
      "8.0             7.980              2.44\n",
      "8.5             8.450              2.58\n",
      "9.0             8.940              2.73\n",
      "9.5             9.450              2.89\n",
      "10.0           10.000              3.06\n"
     ]
    },
    {
     "data": {
      "image/png": "[encoded data removed]",
      "text/plain": [
       "<Figure size 640x480 with 1 Axes>"
      ]
     },
     "metadata": {},
     "output_type": "display_data"
    }
   ],
   "source": [
    "volts_index = [1,1.5,2,2.5,3,3.5,4,4.5,5,5.5,6,6.5,7,7.5,8,8.5,9,9.5,10]\n",
    "\n",
    "volts_3300 = [0.966,1.457,2.017,2.494,3.03,3.475,3.95,4.5,4.96,5.5,6.02,6.48,7.02,7.48,7.98,8.45,8.94,9.45,10.00]\n",
    "current_3300 = [0.29,.44,.61,.76,.92,1.06,1.21,1.37,1.51,1.68,1.84,1.98,2.15,2.29,2.44,2.58,2.73,2.89,3.06]\n",
    "\n",
    "test_data = {'Voltage (V) [v]' : volts_3300, 'Current (mA) [i]' : current_3300}\n",
    "\n",
    "test_data = pd.DataFrame(data = test_data, index = volts_index)\n",
    "\n",
    "print(test_data)\n",
    "\n",
    "\n",
    "plt.plot(current_3300, volts_3300, 'bo')\n",
    "plt.xlabel('Current (mA) [i]')\n",
    "plt.ylabel('Voltage (V) [v]')\n",
    "plt.title('V-I Graph of 3.3k Ohm Resistor')\n",
    "m = (volts_3300[len(volts_3300)-1]-volts_3300[0])/(current_3300[len(current_3300)-1]-current_3300[0])\n",
    "plt.text(1,2,f\"v = {m:.2f} * i\")\n",
    "plt.show()\n"
   ]
  },
  {
   "cell_type": "markdown",
   "id": "4d567866",
   "metadata": {},
   "source": [
    "## Part 2: Series and Parallel\n",
    "\n",
    "1. Connect the 1kΩ and 3.3kΩ resistor in series using the breadboard.Measure the total resistance using an ohmmeter. Record this value.\n",
    "\n",
    "\n",
    "$$ \\textbf{Measured value} \\\\ R_{tot} = 4.24 k\\Omega $$\n",
    "\n",
    "\n",
    "2. Connect 10 V across the two resistors using the DC power supply and measure the\n",
    "current using an ammeter. Use R = 10 V/I to find the equivalent resistance.\n",
    "\n",
    "\n",
    "$$ \\textbf{Equivalent Resistance} \\\\ I = 2.35 mA \\qquad V = 10.00 V \\qquad R_{tot} = V / I \\\\ R_{tot} = \\frac{10.00 V}{2.35 x 10^{-3} mA} \\Rightarrow R_{tot} = 4.255 k\\Omega$$\n",
    "\n",
    "\n",
    "3. Connect the 1kΩ and 3.3kΩ resistor in parallel using the breadboard. Measure the equivalent resistance using an ohmmeter. Record this value.\n",
    "\n",
    "\n",
    "$$ \\textbf{Measured Value} \\\\ R_{tot} = 0.762 k\\Omega $$\n",
    "\n",
    "\n",
    "4. Connect 10 V across the parallel combination of resistors using the DC power supply\n",
    "and measure the current entering the combination. Use R = 10 V/I to find the equivalent\n",
    "resistance.\n",
    "\n",
    "\n",
    "$$ \\textbf{Equivalent Resistance} \\\\ I = 13.05 mA \\qquad V = 9.90 V \\qquad R_{tot} = V / I \\\\ R_{tot} = \\frac{9.90 V}{13.05 x 10^{-3} mA} \\Rightarrow R_{tot} = 0.759 k\\Omega$$"
   ]
  },
  {
   "cell_type": "markdown",
   "id": "4f0c7b70",
   "metadata": {},
   "source": [
    "## Conclusion\n",
    "--------------\n",
    "\n",
    "In part one, we found that there is a linear relationship between voltage and current when a resistor is applied to a power source. The slope of this line is the effective resistance of the resistor. When increasing the resistance from 1 kΩ to 3.3 kΩ we find that the current is approximately 1/3 smaller than when passing through the 1 kΩ resistor. This relates to Ohm's law which states $ I = \\frac{V}{R} $; if voltage is held constant current is equivalent to the reciprocal of the resistance.\n",
    "\n",
    "In part two, investigated series and parallel circuits of resistors. When resistors are placed in series, the effective resistance is the sum of the effective resistance of the individual resistors. When resistors are in parallel the total effective resistance is equal to the inverse of the sum of the effective conductance of the individual resistors."
   ]
  }
 ],
 "metadata": {
  "kernelspec": {
   "display_name": "Python 3 (ipykernel)",
   "language": "python",
   "name": "python3"
  },
  "language_info": {
   "codemirror_mode": {
    "name": "ipython",
    "version": 3
   },
   "file_extension": ".py",
   "mimetype": "text/x-python",
   "name": "python",
   "nbconvert_exporter": "python",
   "pygments_lexer": "ipython3",
   "version": "3.10.6"
  }
 },
 "nbformat": 4,
 "nbformat_minor": 5
}
