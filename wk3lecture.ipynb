{
 "cells": [
  {
   "cell_type": "markdown",
   "id": "ec1cd7bb",
   "metadata": {},
   "source": [
    "# Week 3 Lecture 1:\n",
    "-------------------\n",
    "\n",
    "## 2.7 Wye-Delta Transformations\n",
    "\n",
    "\n",
    "Three phase is often connected as delta\n",
    "\n",
    "RF electronics use Wye (Tee) designs often\n",
    "\n",
    "Follow the steps:\n",
    "1. Label the nodes: [a,b,c] on the delta\n",
    "2. Draw a wye, labeling the nodes [a,b,c] and a middle dot\n",
    "3. On the delta identify $R_{ab} R_{ac} R_{bc}$\n",
    "4."
   ]
  },
  {
   "cell_type": "markdown",
   "id": "6393f280",
   "metadata": {},
   "source": [
    "# Week 3 Lecture 2\n",
    "------------------------------------\n",
    "\n",
    "Simplification\n",
    "- reducing circuits into simpler equivalent circuits\n",
    "- using only independent current and coltage sources\n",
    "- while we simplify the circuit, we loose information about the elements that comprise it\n",
    "\n"
   ]
  }
 ],
 "metadata": {
  "kernelspec": {
   "display_name": "Python 3 (ipykernel)",
   "language": "python",
   "name": "python3"
  },
  "language_info": {
   "codemirror_mode": {
    "name": "ipython",
    "version": 3
   },
   "file_extension": ".py",
   "mimetype": "text/x-python",
   "name": "python",
   "nbconvert_exporter": "python",
   "pygments_lexer": "ipython3",
   "version": "3.10.6"
  }
 },
 "nbformat": 4,
 "nbformat_minor": 5
}
