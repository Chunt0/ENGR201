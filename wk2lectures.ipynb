{
 "cells": [
  {
   "cell_type": "code",
   "execution_count": null,
   "id": "c38461e1",
   "metadata": {},
   "outputs": [],
   "source": []
  },
  {
   "cell_type": "markdown",
   "id": "732594be",
   "metadata": {},
   "source": [
    "# Week 2 Lecture 2\n",
    "----------------------------------\n",
    "\n",
    "## Circuit Topology and Terminology 101\n",
    "\n",
    "\n",
    "- Networks --> A network is an interconnection of elements or devices\n",
    "\n",
    "- Circuits --> A circuit is a network that provides one or more closed paths\n",
    "\n",
    "All circuits are networks but not all networks are circuits\n",
    "\n",
    "## Nodes, Branches and Loops\n",
    "\n",
    "- Branches --> resistor, power source, meter, diode, capacitor, ...\n",
    "\n",
    "- Nodes --> The connection points between branches.\n",
    "\n",
    "- Loops --> A path that moves through branches and nodes and connects back to itself\n",
    "\n",
    "Many loops can be made in many circuits. The most important loops, though, are independant loops\n",
    "\n",
    "#branches = #loops + #nodes - 1\n",
    "\n",
    "## Network Topology: Series and Parallel\n",
    "\n",
    "- Two or more lements are in series if they exclusively share a single node\n",
    "        - everything in series HAVE to share the same current\n",
    "        \n",
    "- Two or more elements are in parallel if they are connected to the same two nodes\n",
    "        - Consequently they share the same voltage\n",
    "\n",
    "## Circuit Analysis\n",
    "\n",
    "Kirchhoff's Current Law:\n",
    "The sume of the currents enetering a node is zero at every instant\n",
    "\n",
    "$$ \\sum i = 0\\;for\\;every\\;node\\;in\\;a\\;circuit $$\n",
    "\n",
    "$$ \\sum i_{in} = \\sum i_{out} $$\n",
    "\n",
    "- This means that current cannot pile up or accumulate - a restatement of conservation of charge.\n",
    "\n",
    "- A junction of two elements is a simple node\n",
    "- A junction of three or more circuit elements is a principal node\n",
    "\n",
    "Kirchhoff's Voltage Law:\n",
    "The sum of all the voltages around a loop is zero at every instant\n",
    "$$ \\sum v_{loop} = 0\\;or\\;\\sum v_{rises}=\\sum v_{drops}\\;around\\;the\\;loop$$\n",
    "\n",
    "- Must take into account the voltage reference sign\n",
    "- Some of the voltages may be oltage sources, whileothers result from passive elements. For passive elements these voltages are found by Ohm's Law\n",
    "\n",
    "\n",
    "\n",
    "\n"
   ]
  },
  {
   "cell_type": "markdown",
   "id": "5831967f",
   "metadata": {},
   "source": [
    "# Week 2 Lecture 3\n",
    "-----------------------------------\n",
    "\n",
    "## Series Resistors: Voltage Division\n",
    "\n",
    "\n"
   ]
  },
  {
   "cell_type": "code",
   "execution_count": 9,
   "id": "bb62f6f8",
   "metadata": {},
   "outputs": [
    {
     "name": "stdout",
     "output_type": "stream",
     "text": [
      "[[ 0.92682927]\n",
      " [ 1.04878049]\n",
      " [-0.12195122]\n",
      " [ 1.87804878]]\n"
     ]
    }
   ],
   "source": [
    "import numpy as np\n",
    "\n",
    "\"\"\"\n",
    "To solve a linear system of equations we need to have the same amount of equations as we have unknowns\n",
    "Turn the coefficients into a mXn matrix and the unknowns as an n x 1 = n x 1 solutions.\n",
    "\n",
    "To find the unknowns you must take the ivnerse of the coefficient matrix and matmul with the solutions.\n",
    "\n",
    "\"\"\"\n",
    "\n",
    "coefficients = np.array([[4,6,0,0],[0,6,-10,-4],[1,-1,-1,0],[0,0,-1,1]])\n",
    "solutions = np.array([[10],[0],[0],[2]])\n",
    "\n",
    "inv_A = np.linalg.inv(coefficients)\n",
    "unknowns = inv_A.dot(solutions)\n",
    "print(unknowns)\n"
   ]
  },
  {
   "cell_type": "markdown",
   "id": "5c2bc3f5",
   "metadata": {},
   "source": [
    "## Parallel Resistors: Current Division\n",
    "\n",
    "Conductances in parallel add up like resistances in series\n",
    "\n",
    "### Special cases\n",
    "FOR ONLY TWO RESISTORS IN PARALLEL\n",
    "\n",
    "$R_{tot} = \\frac{R_A*R_B}{R_A+R_B}$\n",
    "\n",
    "FOR N RESISTORS OF EQUAL RESISTANCE:\n",
    "\n",
    "$R_{tot} = \\frac{R}{N}$\n",
    "\n",
    "$\\frac{I_n}{I_s} = \\frac{R_{tot}}{R_n}$\n",
    "\n",
    "\n"
   ]
  }
 ],
 "metadata": {
  "kernelspec": {
   "display_name": "Python 3 (ipykernel)",
   "language": "python",
   "name": "python3"
  },
  "language_info": {
   "codemirror_mode": {
    "name": "ipython",
    "version": 3
   },
   "file_extension": ".py",
   "mimetype": "text/x-python",
   "name": "python",
   "nbconvert_exporter": "python",
   "pygments_lexer": "ipython3",
   "version": "3.10.6"
  }
 },
 "nbformat": 4,
 "nbformat_minor": 5
}
