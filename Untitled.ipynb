{
 "cells": [
  {
   "cell_type": "markdown",
   "id": "f83cc641",
   "metadata": {},
   "source": [
    "# Chapter 4\n",
    "---------------------\n",
    "Circuit Theorems\n",
    "\n",
    "## Linearity Property\n",
    "-------------------------------\n",
    "Linearity is the property of an element describing a linear relationship between cause and effect.\n",
    "\n",
    "Input = excitation     Output = response\n",
    "\n",
    "Ohm's Law is a linear relationship -> v = iR\n",
    "\n",
    "Homogeneity property:\n",
    "If the current is increased by a constant k -> the voltage is also increased by that value k\n",
    "\n",
    "Additive property:\n",
    "The response to a sum of inputs is the sum of the responses to each input applied separately\n",
    "$$v_1 = i_1*R \\qquad v_2 = i_2*R$$\n",
    "then applying ($i_1 + i_2$)\n",
    "$$v = (i_1+i_2)R = i_1*R+i_2*R = v_1+v_2$$\n",
    "\n",
    "A linear circuit is one whose output is linearly related\n",
    "\n",
    "Notice the equation for power is quadratic\n",
    "$$ P = i^2R = \\frac{v^2}{R}$$\n",
    "\n",
    "Therefore, the relationship between voltage and power or current and power is nonlinear.\n",
    "\n"
   ]
  }
 ],
 "metadata": {
  "kernelspec": {
   "display_name": "Python 3 (ipykernel)",
   "language": "python",
   "name": "python3"
  },
  "language_info": {
   "codemirror_mode": {
    "name": "ipython",
    "version": 3
   },
   "file_extension": ".py",
   "mimetype": "text/x-python",
   "name": "python",
   "nbconvert_exporter": "python",
   "pygments_lexer": "ipython3",
   "version": "3.10.6"
  }
 },
 "nbformat": 4,
 "nbformat_minor": 5
}
